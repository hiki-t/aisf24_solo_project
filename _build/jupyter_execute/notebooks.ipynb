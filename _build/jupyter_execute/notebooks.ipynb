{
 "cells": [
  {
   "cell_type": "markdown",
   "metadata": {},
   "source": [
    "<br>\n",
    "\n",
    "# My Solo project #1\n",
    "\n",
    "<br>"
   ]
  },
  {
   "cell_type": "markdown",
   "metadata": {},
   "source": [
    "\n",
    "<br>\n",
    "\n",
    "### exp1\n",
    "\n",
    "The first exp will test to replicate one of the [Anthropic research outcome (Elhage et al., 2022)](https://transformer-circuits.pub/2022/toy_model/index.html) (see the left square box in the diagram below), compressing feature representations of a toy model from a larger dim into a smaller dim (2 dim) will lead to represent only two features (drawing approx 2 features orthogonal), when sparsity is not set.\n",
    "\n",
    "Here, \n",
    "- a toy model is composed of a Linear model with a ReLU function.\n",
    "- compressing the toy model from a larger dim (49 dim) into a smaller dim (2 dim) via autoencoder model.\n",
    "- training the toy model on the MNIST dataset\n",
    "\n",
    "<br>\n"
   ]
  },
  {
   "cell_type": "markdown",
   "metadata": {},
   "source": [
    "![alt text](img/exp1_diagram1.png \"Diagram1\")"
   ]
  },
  {
   "cell_type": "markdown",
   "metadata": {},
   "source": [
    "\n",
    "<br><br>\n",
    "\n",
    "\n",
    "####################################################################################################\n",
    "####################################################################################################\n",
    "####################################################################################################\n",
    "# 0-1. prepare packages\n",
    "####################################################################################################\n",
    "####################################################################################################\n",
    "####################################################################################################\n",
    "\n",
    "<br><br>\n"
   ]
  },
  {
   "cell_type": "code",
   "execution_count": 1,
   "metadata": {},
   "outputs": [],
   "source": [
    "### import packages \n",
    "\n",
    "# ml/nn\n",
    "import torch\n",
    "import torch.nn as nn  # all neural network modules\n",
    "import torch.nn.functional as F  # Functions with no parameters -> activation functions\n",
    "import torch.optim as optim  # optimization algo\n",
    "\n",
    "from torch.utils.data import DataLoader # easier dataset management, helps create mini batches\n",
    "from torch.utils.data import random_split # set train-test ratio\n",
    "\n",
    "# import torchvision\n",
    "import torchvision.datasets as datasets  # standard datasets\n",
    "import torchvision.transforms as transforms # this for convert dataset to tensor\n",
    "from torchvision.utils import make_grid # this for visualization\n",
    "\n",
    "# stats/ml #1\n",
    "import numpy as np\n",
    "import matplotlib.pyplot as plt\n",
    "\n",
    "# stats/ml #2\n",
    "from sklearn import metrics\n",
    "from sklearn import decomposition\n",
    "from sklearn import manifold\n"
   ]
  },
  {
   "cell_type": "markdown",
   "metadata": {},
   "source": [
    "<br>\n",
    "<br>"
   ]
  },
  {
   "cell_type": "markdown",
   "metadata": {},
   "source": [
    "\n",
    "<br><br>\n",
    "\n",
    "\n",
    "####################################################################################################\n",
    "####################################################################################################\n",
    "####################################################################################################\n",
    "# 1-1. run exp\n",
    "####################################################################################################\n",
    "####################################################################################################\n",
    "####################################################################################################\n",
    "\n",
    "<br><br>\n"
   ]
  },
  {
   "cell_type": "code",
   "execution_count": 2,
   "metadata": {},
   "outputs": [
    {
     "name": "stdout",
     "output_type": "stream",
     "text": [
      "cpu\n"
     ]
    }
   ],
   "source": [
    "### set device\n",
    "\n",
    "device = torch.device('cuda' if torch.cuda.is_available() else 'cpu')\n",
    "print(device)"
   ]
  },
  {
   "cell_type": "code",
   "execution_count": 3,
   "metadata": {},
   "outputs": [],
   "source": [
    "### Define all parameters\n",
    "\n",
    "# later these will be inserted at the beginning as args\n",
    "\n",
    "# fixed\n",
    "batch_size = 64\n",
    "input_size = 784\n",
    "num_classes = 10\n",
    "hidden_size2 = 2\n",
    "\n",
    "# variable\n",
    "hidden_size = 49\n",
    "lr1 = 0.001  # lr for opt1 \n",
    "lr2 = 0.0001 # lr for opt2 # 0.001, or etc \n",
    "num_epochs1 = 10\n",
    "num_epochs2 = 20"
   ]
  },
  {
   "cell_type": "code",
   "execution_count": 4,
   "metadata": {},
   "outputs": [],
   "source": [
    "### define original functions\n",
    "\n",
    "def calculate_angle(x, y):\n",
    "    # Calculate the angle in radians using arctan2\n",
    "    radians = np.arctan2(y, x)  # y is vertical component, x is horizontal component\n",
    "    # Convert radians to degrees\n",
    "    degrees = np.degrees(radians)\n",
    "    # Normalize the angle to the range [0, 360)\n",
    "    angle = degrees % 360\n",
    "    return angle\n",
    "\n",
    "def norm_point(x, y):\n",
    "    # Calculate the length of the vector\n",
    "    length = np.sqrt(x**2 + y**2)\n",
    "    \n",
    "    # Check where length is 0\n",
    "    zero_mask = (length == 0)  # Boolean mask for elements where length is 0\n",
    "\n",
    "    # Initialize normalized coordinates\n",
    "    x_norm = np.zeros_like(x)\n",
    "    y_norm = np.zeros_like(y)\n",
    "    \n",
    "    # Perform normalization only where length != 0\n",
    "    x_norm[~zero_mask] = x[~zero_mask] / length[~zero_mask]\n",
    "    y_norm[~zero_mask] = y[~zero_mask] / length[~zero_mask]\n",
    "    \n",
    "    # For dimensions where length == 0, retain the original values\n",
    "    x_norm[zero_mask] = x[zero_mask]\n",
    "    y_norm[zero_mask] = y[zero_mask]\n",
    "\n",
    "    return x_norm, y_norm"
   ]
  },
  {
   "cell_type": "code",
   "execution_count": 5,
   "metadata": {},
   "outputs": [],
   "source": [
    "### implement two single FC NN models\n",
    "\n",
    "class lin_model(nn.Module):\n",
    "    def __init__(self, input_size, hidden_size, num_classes):  \n",
    "        super(lin_model, self).__init__()\n",
    "        self.fc1 = nn.Linear(input_size, hidden_size) # input: 28x28=784, hidden: 7x7=49\n",
    "        self.fc2 = nn.Linear(hidden_size, num_classes) # hidden: 49, num_classes: 10\n",
    "    def forward(self, x):\n",
    "        x = self.fc1(x) # 784->49\n",
    "        x = torch.tanh(x) # range within [-1:1]\n",
    "        x_h = F.relu(x) # add non-linearity\n",
    "        x = self.fc2(x_h) # 49->10\n",
    "        return x, x_h\n",
    "\n",
    "class ae_model(nn.Module):\n",
    "    def __init__(self, input_size, hidden_size, num_classes):\n",
    "        super(ae_model, self).__init__()\n",
    "        self.fc1 = nn.Linear(input_size, hidden_size) # input: 49, target_dim: 2, for visualising superposition in 2d\n",
    "        self.fc2 = nn.Linear(hidden_size, input_size) # input: 2, target_dim: 49\n",
    "    def forward(self, x):\n",
    "        x = self.fc1(x) # 49->2\n",
    "        x_2d = torch.tanh(x) # range within [-1:1]\n",
    "        x = self.fc2(x_2d) # 2->49\n",
    "        x = F.relu(x) # simulate lin_model's process\n",
    "        return x, x_2d"
   ]
  },
  {
   "cell_type": "code",
   "execution_count": 6,
   "metadata": {},
   "outputs": [],
   "source": [
    "# # define a SAE model\n",
    "\n",
    "# # this will be added later\n",
    "\n",
    "# class sae_model(nn.Module):\n",
    "    \n",
    "#     def __init__(self, in_dims, h_dims, sparsity_lambda=1e-4, sparsity_target=0.05):\n",
    "#         super().__init__()\n",
    "#         self.in_dims = in_dims\n",
    "#         self.h_dims = h_dims\n",
    "#         self.sparsity_lambda = sparsity_lambda # sparsity penalty impact\n",
    "#         self.sparsity_target = sparsity_target # target sparsity distribution\n",
    "        \n",
    "#         self.encoder = nn.Sequential(\n",
    "#             nn.Linear(self.in_dims, self.h_dims),\n",
    "#             nn.Sigmoid() # range within [0:1]\n",
    "#         )\n",
    "        \n",
    "#         self.decoder = nn.Sequential(\n",
    "#             nn.Linear(self.h_dims, self.in_dims),\n",
    "#             nn.Tanh() # range within [-1:1]\n",
    "#         )\n",
    "    \n",
    "#     def forward(self, x):\n",
    "#         encoded = self.encoder(x)\n",
    "#         decoded = self.decoder(encoded)\n",
    "#         return encoded, decoded\n",
    "\n",
    "#     # kl divergence\n",
    "#     def sparsity_penalty(self, encoded):\n",
    "#         rho_hat = torch.mean(encoded, dim=0)\n",
    "#         rho = self.sparsity_target\n",
    "#         epsilon = 1e-8\n",
    "#         rho_hat = torch.clamp(rho_hat, min=epsilon, max=1 - epsilon)\n",
    "#         kl_divergence = rho * torch.log(rho / rho_hat) + (1 - rho) * torch.log((1 - rho) / (1 - rho_hat))\n",
    "#         sparsity_penalty = torch.sum(kl_divergence)\n",
    "#         return self.sparsity_lambda * sparsity_penalty\n",
    "    \n",
    "#     def loss_function(self, x_hat, x, encoded):\n",
    "#         mse_loss = F.mse_loss(x_hat, x)\n",
    "#         sparsity_loss = self.sparsity_penalty(encoded)\n",
    "#         return mse_loss + sparsity_loss"
   ]
  },
  {
   "cell_type": "code",
   "execution_count": 7,
   "metadata": {},
   "outputs": [],
   "source": [
    "### define datasets\n",
    "\n",
    "# load dataset\n",
    "train_dataset = datasets.MNIST(root='dataset/', train=True, transform=transforms.ToTensor(), download=True)\n",
    "train_loader = DataLoader(dataset=train_dataset, batch_size=batch_size, shuffle=True)\n",
    "test_dataset = datasets.MNIST(root='dataset/', train=False, transform=transforms.ToTensor(), download=True)\n",
    "test_loader = DataLoader(dataset=test_dataset, batch_size=batch_size, shuffle=True)"
   ]
  },
  {
   "cell_type": "code",
   "execution_count": 8,
   "metadata": {},
   "outputs": [],
   "source": [
    "### initialize model, loss, optimizer\n",
    "\n",
    "m1 = lin_model(\n",
    "    input_size=input_size, \n",
    "    hidden_size=hidden_size, \n",
    "    num_classes=num_classes\n",
    ").to(device)\n",
    "\n",
    "m2 = ae_model(\n",
    "    input_size=hidden_size, \n",
    "    hidden_size=hidden_size2, \n",
    "    num_classes=num_classes\n",
    ").to(device)\n",
    "\n",
    "# Loss and Optimizer\n",
    "criterion1 = nn.CrossEntropyLoss()\n",
    "criterion2 = nn.MSELoss()\n",
    "\n",
    "opt1 = optim.Adam(m1.parameters(), lr=lr1) \n",
    "opt2 = optim.Adam(m2.parameters(), lr=lr2)"
   ]
  },
  {
   "cell_type": "code",
   "execution_count": 9,
   "metadata": {},
   "outputs": [
    {
     "name": "stdout",
     "output_type": "stream",
     "text": [
      "Epoch [1/10], loss1: 0.2738, accuracy: 0.9289\n"
     ]
    },
    {
     "name": "stdout",
     "output_type": "stream",
     "text": [
      "Epoch [2/10], loss1: 0.1721, accuracy: 0.9419\n"
     ]
    },
    {
     "name": "stdout",
     "output_type": "stream",
     "text": [
      "Epoch [3/10], loss1: 0.2858, accuracy: 0.9472\n"
     ]
    },
    {
     "name": "stdout",
     "output_type": "stream",
     "text": [
      "Epoch [4/10], loss1: 0.0176, accuracy: 0.9547\n"
     ]
    },
    {
     "name": "stdout",
     "output_type": "stream",
     "text": [
      "Epoch [5/10], loss1: 0.0374, accuracy: 0.9547\n"
     ]
    },
    {
     "name": "stdout",
     "output_type": "stream",
     "text": [
      "Epoch [6/10], loss1: 0.3615, accuracy: 0.9563\n"
     ]
    },
    {
     "ename": "KeyboardInterrupt",
     "evalue": "",
     "output_type": "error",
     "traceback": [
      "\u001b[0;31m---------------------------------------------------------------------------\u001b[0m",
      "\u001b[0;31mKeyboardInterrupt\u001b[0m                         Traceback (most recent call last)",
      "Cell \u001b[0;32mIn[9], line 14\u001b[0m\n\u001b[1;32m      6\u001b[0m \u001b[38;5;66;03m###\u001b[39;00m\n\u001b[1;32m      7\u001b[0m \u001b[38;5;66;03m### phase 1: prepare trained weights with larger dim\u001b[39;00m\n\u001b[1;32m      8\u001b[0m \u001b[38;5;66;03m###\u001b[39;00m\n\u001b[1;32m      9\u001b[0m \n\u001b[1;32m     10\u001b[0m \u001b[38;5;66;03m# training lin model\u001b[39;00m\n\u001b[1;32m     11\u001b[0m \u001b[38;5;28;01mfor\u001b[39;00m epoch \u001b[38;5;129;01min\u001b[39;00m \u001b[38;5;28mrange\u001b[39m(num_epochs1):\n\u001b[1;32m     12\u001b[0m \n\u001b[1;32m     13\u001b[0m     \u001b[38;5;66;03m# Training\u001b[39;00m\n\u001b[0;32m---> 14\u001b[0m     \u001b[38;5;28;01mfor\u001b[39;00m batch_idx, (data, targets) \u001b[38;5;129;01min\u001b[39;00m \u001b[38;5;28menumerate\u001b[39m(train_loader):\n\u001b[1;32m     15\u001b[0m \n\u001b[1;32m     16\u001b[0m         \u001b[38;5;66;03m# reshape [batch, 1, 28,28] to [batch, 28*28]\u001b[39;00m\n\u001b[1;32m     17\u001b[0m         data \u001b[38;5;241m=\u001b[39m data\u001b[38;5;241m.\u001b[39mreshape(\u001b[38;5;241m-\u001b[39m\u001b[38;5;241m1\u001b[39m, \u001b[38;5;241m28\u001b[39m\u001b[38;5;241m*\u001b[39m\u001b[38;5;241m28\u001b[39m)\n\u001b[1;32m     19\u001b[0m         \u001b[38;5;66;03m# Step 1: Forward pass through model1\u001b[39;00m\n",
      "File \u001b[0;32m~/work/anaconda3/envs/aisf24/lib/python3.11/site-packages/torch/utils/data/dataloader.py:701\u001b[0m, in \u001b[0;36m_BaseDataLoaderIter.__next__\u001b[0;34m(self)\u001b[0m\n\u001b[1;32m    698\u001b[0m \u001b[38;5;28;01mif\u001b[39;00m \u001b[38;5;28mself\u001b[39m\u001b[38;5;241m.\u001b[39m_sampler_iter \u001b[38;5;129;01mis\u001b[39;00m \u001b[38;5;28;01mNone\u001b[39;00m:\n\u001b[1;32m    699\u001b[0m     \u001b[38;5;66;03m# TODO(https://github.com/pytorch/pytorch/issues/76750)\u001b[39;00m\n\u001b[1;32m    700\u001b[0m     \u001b[38;5;28mself\u001b[39m\u001b[38;5;241m.\u001b[39m_reset()  \u001b[38;5;66;03m# type: ignore[call-arg]\u001b[39;00m\n\u001b[0;32m--> 701\u001b[0m data \u001b[38;5;241m=\u001b[39m \u001b[38;5;28mself\u001b[39m\u001b[38;5;241m.\u001b[39m_next_data()\n\u001b[1;32m    702\u001b[0m \u001b[38;5;28mself\u001b[39m\u001b[38;5;241m.\u001b[39m_num_yielded \u001b[38;5;241m+\u001b[39m\u001b[38;5;241m=\u001b[39m \u001b[38;5;241m1\u001b[39m\n\u001b[1;32m    703\u001b[0m \u001b[38;5;28;01mif\u001b[39;00m (\n\u001b[1;32m    704\u001b[0m     \u001b[38;5;28mself\u001b[39m\u001b[38;5;241m.\u001b[39m_dataset_kind \u001b[38;5;241m==\u001b[39m _DatasetKind\u001b[38;5;241m.\u001b[39mIterable\n\u001b[1;32m    705\u001b[0m     \u001b[38;5;129;01mand\u001b[39;00m \u001b[38;5;28mself\u001b[39m\u001b[38;5;241m.\u001b[39m_IterableDataset_len_called \u001b[38;5;129;01mis\u001b[39;00m \u001b[38;5;129;01mnot\u001b[39;00m \u001b[38;5;28;01mNone\u001b[39;00m\n\u001b[1;32m    706\u001b[0m     \u001b[38;5;129;01mand\u001b[39;00m \u001b[38;5;28mself\u001b[39m\u001b[38;5;241m.\u001b[39m_num_yielded \u001b[38;5;241m>\u001b[39m \u001b[38;5;28mself\u001b[39m\u001b[38;5;241m.\u001b[39m_IterableDataset_len_called\n\u001b[1;32m    707\u001b[0m ):\n",
      "File \u001b[0;32m~/work/anaconda3/envs/aisf24/lib/python3.11/site-packages/torch/utils/data/dataloader.py:757\u001b[0m, in \u001b[0;36m_SingleProcessDataLoaderIter._next_data\u001b[0;34m(self)\u001b[0m\n\u001b[1;32m    755\u001b[0m \u001b[38;5;28;01mdef\u001b[39;00m \u001b[38;5;21m_next_data\u001b[39m(\u001b[38;5;28mself\u001b[39m):\n\u001b[1;32m    756\u001b[0m     index \u001b[38;5;241m=\u001b[39m \u001b[38;5;28mself\u001b[39m\u001b[38;5;241m.\u001b[39m_next_index()  \u001b[38;5;66;03m# may raise StopIteration\u001b[39;00m\n\u001b[0;32m--> 757\u001b[0m     data \u001b[38;5;241m=\u001b[39m \u001b[38;5;28mself\u001b[39m\u001b[38;5;241m.\u001b[39m_dataset_fetcher\u001b[38;5;241m.\u001b[39mfetch(index)  \u001b[38;5;66;03m# may raise StopIteration\u001b[39;00m\n\u001b[1;32m    758\u001b[0m     \u001b[38;5;28;01mif\u001b[39;00m \u001b[38;5;28mself\u001b[39m\u001b[38;5;241m.\u001b[39m_pin_memory:\n\u001b[1;32m    759\u001b[0m         data \u001b[38;5;241m=\u001b[39m _utils\u001b[38;5;241m.\u001b[39mpin_memory\u001b[38;5;241m.\u001b[39mpin_memory(data, \u001b[38;5;28mself\u001b[39m\u001b[38;5;241m.\u001b[39m_pin_memory_device)\n",
      "File \u001b[0;32m~/work/anaconda3/envs/aisf24/lib/python3.11/site-packages/torch/utils/data/_utils/fetch.py:52\u001b[0m, in \u001b[0;36m_MapDatasetFetcher.fetch\u001b[0;34m(self, possibly_batched_index)\u001b[0m\n\u001b[1;32m     50\u001b[0m         data \u001b[38;5;241m=\u001b[39m \u001b[38;5;28mself\u001b[39m\u001b[38;5;241m.\u001b[39mdataset\u001b[38;5;241m.\u001b[39m__getitems__(possibly_batched_index)\n\u001b[1;32m     51\u001b[0m     \u001b[38;5;28;01melse\u001b[39;00m:\n\u001b[0;32m---> 52\u001b[0m         data \u001b[38;5;241m=\u001b[39m [\u001b[38;5;28mself\u001b[39m\u001b[38;5;241m.\u001b[39mdataset[idx] \u001b[38;5;28;01mfor\u001b[39;00m idx \u001b[38;5;129;01min\u001b[39;00m possibly_batched_index]\n\u001b[1;32m     53\u001b[0m \u001b[38;5;28;01melse\u001b[39;00m:\n\u001b[1;32m     54\u001b[0m     data \u001b[38;5;241m=\u001b[39m \u001b[38;5;28mself\u001b[39m\u001b[38;5;241m.\u001b[39mdataset[possibly_batched_index]\n",
      "File \u001b[0;32m~/work/anaconda3/envs/aisf24/lib/python3.11/site-packages/torch/utils/data/_utils/fetch.py:52\u001b[0m, in \u001b[0;36m<listcomp>\u001b[0;34m(.0)\u001b[0m\n\u001b[1;32m     50\u001b[0m         data \u001b[38;5;241m=\u001b[39m \u001b[38;5;28mself\u001b[39m\u001b[38;5;241m.\u001b[39mdataset\u001b[38;5;241m.\u001b[39m__getitems__(possibly_batched_index)\n\u001b[1;32m     51\u001b[0m     \u001b[38;5;28;01melse\u001b[39;00m:\n\u001b[0;32m---> 52\u001b[0m         data \u001b[38;5;241m=\u001b[39m [\u001b[38;5;28mself\u001b[39m\u001b[38;5;241m.\u001b[39mdataset[idx] \u001b[38;5;28;01mfor\u001b[39;00m idx \u001b[38;5;129;01min\u001b[39;00m possibly_batched_index]\n\u001b[1;32m     53\u001b[0m \u001b[38;5;28;01melse\u001b[39;00m:\n\u001b[1;32m     54\u001b[0m     data \u001b[38;5;241m=\u001b[39m \u001b[38;5;28mself\u001b[39m\u001b[38;5;241m.\u001b[39mdataset[possibly_batched_index]\n",
      "File \u001b[0;32m~/work/anaconda3/envs/aisf24/lib/python3.11/site-packages/torchvision/datasets/mnist.py:146\u001b[0m, in \u001b[0;36mMNIST.__getitem__\u001b[0;34m(self, index)\u001b[0m\n\u001b[1;32m    143\u001b[0m img \u001b[38;5;241m=\u001b[39m Image\u001b[38;5;241m.\u001b[39mfromarray(img\u001b[38;5;241m.\u001b[39mnumpy(), mode\u001b[38;5;241m=\u001b[39m\u001b[38;5;124m\"\u001b[39m\u001b[38;5;124mL\u001b[39m\u001b[38;5;124m\"\u001b[39m)\n\u001b[1;32m    145\u001b[0m \u001b[38;5;28;01mif\u001b[39;00m \u001b[38;5;28mself\u001b[39m\u001b[38;5;241m.\u001b[39mtransform \u001b[38;5;129;01mis\u001b[39;00m \u001b[38;5;129;01mnot\u001b[39;00m \u001b[38;5;28;01mNone\u001b[39;00m:\n\u001b[0;32m--> 146\u001b[0m     img \u001b[38;5;241m=\u001b[39m \u001b[38;5;28mself\u001b[39m\u001b[38;5;241m.\u001b[39mtransform(img)\n\u001b[1;32m    148\u001b[0m \u001b[38;5;28;01mif\u001b[39;00m \u001b[38;5;28mself\u001b[39m\u001b[38;5;241m.\u001b[39mtarget_transform \u001b[38;5;129;01mis\u001b[39;00m \u001b[38;5;129;01mnot\u001b[39;00m \u001b[38;5;28;01mNone\u001b[39;00m:\n\u001b[1;32m    149\u001b[0m     target \u001b[38;5;241m=\u001b[39m \u001b[38;5;28mself\u001b[39m\u001b[38;5;241m.\u001b[39mtarget_transform(target)\n",
      "File \u001b[0;32m~/work/anaconda3/envs/aisf24/lib/python3.11/site-packages/torchvision/transforms/transforms.py:137\u001b[0m, in \u001b[0;36mToTensor.__call__\u001b[0;34m(self, pic)\u001b[0m\n\u001b[1;32m    129\u001b[0m \u001b[38;5;28;01mdef\u001b[39;00m \u001b[38;5;21m__call__\u001b[39m(\u001b[38;5;28mself\u001b[39m, pic):\n\u001b[1;32m    130\u001b[0m \u001b[38;5;250m    \u001b[39m\u001b[38;5;124;03m\"\"\"\u001b[39;00m\n\u001b[1;32m    131\u001b[0m \u001b[38;5;124;03m    Args:\u001b[39;00m\n\u001b[1;32m    132\u001b[0m \u001b[38;5;124;03m        pic (PIL Image or numpy.ndarray): Image to be converted to tensor.\u001b[39;00m\n\u001b[0;32m   (...)\u001b[0m\n\u001b[1;32m    135\u001b[0m \u001b[38;5;124;03m        Tensor: Converted image.\u001b[39;00m\n\u001b[1;32m    136\u001b[0m \u001b[38;5;124;03m    \"\"\"\u001b[39;00m\n\u001b[0;32m--> 137\u001b[0m     \u001b[38;5;28;01mreturn\u001b[39;00m F\u001b[38;5;241m.\u001b[39mto_tensor(pic)\n",
      "File \u001b[0;32m~/work/anaconda3/envs/aisf24/lib/python3.11/site-packages/torchvision/transforms/functional.py:176\u001b[0m, in \u001b[0;36mto_tensor\u001b[0;34m(pic)\u001b[0m\n\u001b[1;32m    174\u001b[0m img \u001b[38;5;241m=\u001b[39m img\u001b[38;5;241m.\u001b[39mpermute((\u001b[38;5;241m2\u001b[39m, \u001b[38;5;241m0\u001b[39m, \u001b[38;5;241m1\u001b[39m))\u001b[38;5;241m.\u001b[39mcontiguous()\n\u001b[1;32m    175\u001b[0m \u001b[38;5;28;01mif\u001b[39;00m \u001b[38;5;28misinstance\u001b[39m(img, torch\u001b[38;5;241m.\u001b[39mByteTensor):\n\u001b[0;32m--> 176\u001b[0m     \u001b[38;5;28;01mreturn\u001b[39;00m img\u001b[38;5;241m.\u001b[39mto(dtype\u001b[38;5;241m=\u001b[39mdefault_float_dtype)\u001b[38;5;241m.\u001b[39mdiv(\u001b[38;5;241m255\u001b[39m)\n\u001b[1;32m    177\u001b[0m \u001b[38;5;28;01melse\u001b[39;00m:\n\u001b[1;32m    178\u001b[0m     \u001b[38;5;28;01mreturn\u001b[39;00m img\n",
      "\u001b[0;31mKeyboardInterrupt\u001b[0m: "
     ]
    }
   ],
   "source": [
    "### train and validaiton\n",
    "\n",
    "num_epochs1 = 10\n",
    "num_epochs2 = 20\n",
    "\n",
    "###\n",
    "### phase 1: prepare trained weights with larger dim\n",
    "###\n",
    "\n",
    "# training lin model\n",
    "for epoch in range(num_epochs1):\n",
    "\n",
    "    # Training\n",
    "    for batch_idx, (data, targets) in enumerate(train_loader):\n",
    "\n",
    "        # reshape [batch, 1, 28,28] to [batch, 28*28]\n",
    "        data = data.reshape(-1, 28*28)\n",
    "\n",
    "        # Step 1: Forward pass through model1\n",
    "        out1, h1 = m1(data) # out1:[batch, 10] as 10 class, h1:[batch, 49] as 49 latent\n",
    "        \n",
    "        # Step 4: Compute loss1 and update model1\n",
    "        loss1 = criterion1(out1, targets)\n",
    "        opt1.zero_grad()\n",
    "        loss1.backward()\n",
    "        opt1.step()\n",
    "\n",
    "    num_correct = 0\n",
    "    num_samples = 0\n",
    "    \n",
    "    # Validation\n",
    "    with torch.no_grad():\n",
    "        for batch_idx, (data, targets) in enumerate(test_loader):\n",
    "            data = data.reshape(-1, 28*28)\n",
    "            out1, _ = m1(data)\n",
    "            _, predictions = out1.max(1)\n",
    "            num_correct += (predictions == targets).sum()\n",
    "            num_samples += predictions.size(0)\n",
    "\n",
    "        accuracy = num_correct/num_samples\n",
    "    \n",
    "    print(f\"Epoch [{epoch+1}/{num_epochs1}], loss1: {loss1.item():.4f}, accuracy: {accuracy.item():.4f}\")\n",
    "\n",
    "###\n",
    "### phase 2: train AE model weights with 2 dim\n",
    "###\n",
    "\n",
    "# training ae model and visualize results\n",
    "for epoch in range(num_epochs2):\n",
    "\n",
    "    # Training autoencoder model\n",
    "    for batch_idx, (data, targets) in enumerate(train_loader):\n",
    "\n",
    "        # reshape [batch, 1, 28,28] to [batch, 28*28]\n",
    "        data = data.reshape(-1, 28*28)\n",
    "\n",
    "        with torch.no_grad():\n",
    "            _, h1 = m1(data) # out1:[batch, 10] as 10 class, h1:[batch, 49] as 49 latent\n",
    "            h1_clone = h1.detach()\n",
    "\n",
    "        out2, _ = m2(h1_clone)  # 49 -> 2 -> 49\n",
    "\n",
    "        loss2 = criterion2(out2, h1_clone)\n",
    "        opt2.zero_grad()\n",
    "        loss2.backward()\n",
    "        opt2.step()\n",
    "\n",
    "    # visualization\n",
    "    with torch.no_grad():\n",
    "\n",
    "        # Collecting data # lin model\n",
    "        for batch_idx, (data, targets) in enumerate(train_loader):\n",
    "\n",
    "            data = data.reshape(-1, 28*28)\n",
    "            _, h1 = m1(data)\n",
    "            \n",
    "            if batch_idx == 0:\n",
    "                target_h1 = h1\n",
    "            else:\n",
    "                target_h1 = torch.vstack((target_h1,h1))\n",
    "\n",
    "        # Collecting data # ae model\n",
    "        reconstruct_target_h1, h2_2d = m2(target_h1)\n",
    "        \n",
    "        # Collecting data # original loss\n",
    "        target_loss2_orig = criterion2(reconstruct_target_h1, target_h1)\n",
    "\n",
    "        # Importance and xy2d coord calculation        \n",
    "        batch_size, large_model_dim = target_h1.shape\n",
    "        importance = []\n",
    "        target_dim_2d = []\n",
    "\n",
    "        for one_dim in range(large_model_dim):\n",
    "\n",
    "            # importance\n",
    "            h1_perturb = target_h1.clone()\n",
    "            h1_perturb[:,one_dim] = 0.0\n",
    "            reconstruct_h1_perturb, _ = m2(h1_perturb)\n",
    "            loss2_perturb = criterion2(reconstruct_h1_perturb, target_h1)\n",
    "            importance.append(loss2_perturb - target_loss2_orig)\n",
    "\n",
    "            # xy_2d\n",
    "            target_h1_one_dim = torch.zeros_like(target_h1, dtype=torch.float) # batch, larger dim\n",
    "            target_h1_one_dim[:,one_dim] = target_h1[:,one_dim]\n",
    "            _, target_h1_2d = m2(target_h1_one_dim)\n",
    "            target_dim_2d.append(target_h1_2d.mean(axis=0))\n",
    "        \n",
    "        target_dim_2d = np.array(target_dim_2d)\n",
    "        \n",
    "        # calculate importance according to contribution to MSE loss\n",
    "        importance = np.array([imp/sum(importance) for imp in importance])\n",
    "        # importance[importance<(1/large_model_dim)] = 0.0 # convert importance lower than expected contribution into 0\n",
    "        importance_norm = (importance - np.min(importance)) / (np.max(importance) - np.min(importance)) # normalize value into 0-1 range\n",
    "\n",
    "        # compute xy_coordinates\n",
    "\n",
    "        # use raw xy2d with unrestricted magnitude vector as it is\n",
    "        xy_coord = importance_norm[:, np.newaxis] * target_dim_2d # because calculate [large_dim,]*[large_dim,xy_coord]\n",
    "        # xy_coord = xy_coord/np.abs(xy_coord).max() # adjust max magnitude to -1.0 to 1.0\n",
    "        x_coord = xy_coord[:,0]\n",
    "        y_coord = xy_coord[:,1]\n",
    "\n",
    "        # set a magnitude of xy2d with 1\n",
    "        x_coord_norm, y_coord_norm = norm_point(target_dim_2d[:,0], target_dim_2d[:,1])\n",
    "        x_coord_norm = x_coord_norm * importance_norm\n",
    "        y_coord_norm = y_coord_norm * importance_norm\n",
    "\n",
    "        # graph visualization\n",
    "        fig, ax = plt.subplots(1,2, figsize=(7,3))\n",
    "        for i in range(len(x_coord)):\n",
    "            ax[0].scatter(x_coord[i], y_coord[i])\n",
    "            ax[0].plot([0,x_coord[i]],[0,y_coord[i]])\n",
    "            ax[1].scatter(x_coord_norm[i], y_coord_norm[i])\n",
    "            ax[1].plot([0,x_coord_norm[i]],[0,y_coord_norm[i]])\n",
    "\n",
    "        ax[0].title.set_text(f\"imp * len=flex\")\n",
    "        ax[0].axhline(0, color='gray', linestyle='--', linewidth=0.5)\n",
    "        ax[0].axvline(0, color='gray', linestyle='--', linewidth=0.5)\n",
    "        ax[1].title.set_text(f\"imp * len=fix1\")\n",
    "        ax[1].axhline(0, color='gray', linestyle='--', linewidth=0.5)\n",
    "        ax[1].axvline(0, color='gray', linestyle='--', linewidth=0.5)\n",
    "        plt.tight_layout()\n",
    "        plt.show()\n",
    "\n",
    "    print(f\"Epoch [{epoch+1}/{num_epochs2}], loss2: {loss2.item():.4f}\")"
   ]
  },
  {
   "cell_type": "markdown",
   "metadata": {},
   "source": [
    "\n",
    "<br>\n",
    "\n",
    "### exp2\n",
    "\n",
    "<br>\n"
   ]
  },
  {
   "cell_type": "markdown",
   "metadata": {},
   "source": [
    "![alt text](img/exp1_diagram2.png \"Diagram2\")"
   ]
  },
  {
   "cell_type": "code",
   "execution_count": 9,
   "metadata": {},
   "outputs": [
    {
     "data": {
      "image/png": "[encoded data removed]",
      "text/plain": [
       "<Figure size 1300x300 with 6 Axes>"
      ]
     },
     "metadata": {},
     "output_type": "display_data"
    }
   ],
   "source": [
    "### demonstrate wT*w, W-norm, cos sim distance\n",
    "\n",
    "with torch.no_grad():\n",
    "    w1 = m2.fc1.weight.detach().numpy()\n",
    "    w2 = m2.fc2.weight.detach().numpy()\n",
    "    # b = m2.fc1.bias.detach().numpy()\n",
    "\n",
    "    # Sort the columns of 'a' based on importance\n",
    "    sorted_indices = np.argsort(importance_norm)[::-1] # Get indices that would sort the importance array\n",
    "    w1_sorted = w1[:, sorted_indices] # Reorder the columns of 'a' based on sorted indices\n",
    "    w2_sorted = w2[sorted_indices, :] # Reorder the columns of 'a' based on sorted indices\n",
    "    # b_sorted = b[sorted_indices] # Reorder the columns of 'a' based on sorted indices\n",
    "\n",
    "    w1_sorted_t = w1_sorted.T\n",
    "    mask_range = np.array(range(len(w1_sorted_t)))\n",
    "    w1_cos_sim = []\n",
    "    w2_cos_sim = []\n",
    "\n",
    "    for i in range(len(w1_sorted_t)):\n",
    "        w1_sorted_t_target = w1_sorted_t[i]\n",
    "        idx_mask = (mask_range == i)\n",
    "        w1_sorted_t_ref = w1_sorted_t[~idx_mask]\n",
    "        cos_sim1 = ((w1_sorted_t_target @ w1_sorted_t_ref.T)**2).sum()\n",
    "        w1_cos_sim.append(cos_sim1)\n",
    "\n",
    "        w2_sorted_target = w2_sorted[i]\n",
    "        idx_mask = (mask_range == i)\n",
    "        w2_sorted_ref = w2_sorted[~idx_mask]\n",
    "        cos_sim2 = ((w2_sorted_ref @ w2_sorted_target)**2).sum()\n",
    "        w2_cos_sim.append(cos_sim2)\n",
    "\n",
    "    w1_cos_dis = np.array(w1_cos_sim)\n",
    "    w2_cos_dis = np.array(w2_cos_sim)\n",
    "\n",
    "    x = w1_sorted.T[:,0]\n",
    "    y = w1_sorted.T[:,1]\n",
    "    w_norm = np.sqrt(x**2 + y**2)\n",
    "\n",
    "    wtw = (w2_sorted @ w1_sorted)\n",
    "    # wtw = (w_sorted.T @ w_sorted)\n",
    "\n",
    "    wtw_clone = wtw.copy()\n",
    "    thres = np.percentile(wtw_clone, [95])\n",
    "    wtw_clone[wtw_clone<thres] = 0.0\n",
    "\n",
    "    fig, ax = plt.subplots(1,4, figsize=((13,3)))\n",
    "\n",
    "    ax[0].plot(w_norm)\n",
    "    ax[1].plot(w1_cos_dis)\n",
    "    pos1 = ax[2].imshow(wtw)\n",
    "    pos2 = ax[3].imshow(wtw_clone)\n",
    "\n",
    "    ax[0].title.set_text(f\"||$W_{'i'}$||\")\n",
    "    ax[1].title.set_text(f\"cos sim\")\n",
    "    ax[2].title.set_text(f\"wTw-raw\")\n",
    "    ax[3].title.set_text(f\"wTw top5%\")\n",
    "\n",
    "    fig.colorbar(pos1)\n",
    "    fig.colorbar(pos2)\n",
    "\n",
    "    plt.tight_layout()\n",
    "    plt.show()"
   ]
  },
  {
   "cell_type": "code",
   "execution_count": null,
   "metadata": {},
   "outputs": [],
   "source": []
  },
  {
   "cell_type": "code",
   "execution_count": null,
   "metadata": {},
   "outputs": [],
   "source": []
  }
 ],
 "metadata": {
  "kernelspec": {
   "display_name": "Python 3 (ipykernel)",
   "language": "python",
   "name": "python3"
  },
  "language_info": {
   "codemirror_mode": {
    "name": "ipython",
    "version": 3
   },
   "file_extension": ".py",
   "mimetype": "text/x-python",
   "name": "python",
   "nbconvert_exporter": "python",
   "pygments_lexer": "ipython3",
   "version": "3.11.10"
  },
  "widgets": {
   "application/vnd.jupyter.widget-state+json": {
    "state": {},
    "version_major": 2,
    "version_minor": 0
   }
  }
 },
 "nbformat": 4,
 "nbformat_minor": 4
}